{
 "cells": [
  {
   "cell_type": "code",
   "execution_count": 68,
   "metadata": {},
   "outputs": [],
   "source": [
    "import torch\n",
    "import pyro\n",
    "import pyro.distributions as dist\n",
    "from pyro.infer import MCMC, NUTS\n",
    "from sklearn.metrics import accuracy_score, roc_auc_score\n",
    "\n",
    "# Function to load dataset\n",
    "def load_data(data_path, labels_path, sep='\\s+', header=None, label_transform={-1: 0}):\n",
    "    \"\"\"Loads data and labels\"\"\"\n",
    "    data = pd.read_csv(data_path, header=header, sep=sep)\n",
    "    labels = pd.read_csv(labels_path, header=header, sep=sep).replace(label_transform)\n",
    "    return data, labels\n",
    "\n",
    "# Load training and validation datasets\n",
    "train_data, train_labels = load_data(train_data_path, train_labels_path)\n",
    "valid_data, valid_labels = load_data(valid_data_path, valid_labels_path)\n",
    "\n",
    "# Combine training and validation datasets\n",
    "X = pd.concat([train_data, valid_data], ignore_index=True)\n",
    "y = pd.concat([train_labels, valid_labels], ignore_index=True)\n",
    "\n",
    "# Prepare for stratified 5-fold cross-validation\n",
    "kf = KFold(n_splits=5)"
   ]
  },
  {
   "cell_type": "code",
   "execution_count": 67,
   "metadata": {},
   "outputs": [
    {
     "name": "stderr",
     "output_type": "stream",
     "text": [
      "Sample: 100%|██████████| 3000/3000 [1:39:04,  1.98s/it, step size=2.74e-04, acc. prob=0.907] \n",
      "Sample: 100%|██████████| 3000/3000 [45:37,  1.10it/s, step size=2.62e-04, acc. prob=0.948]\n",
      "Sample: 100%|██████████| 3000/3000 [3:50:27,  4.61s/it, step size=2.22e-04, acc. prob=0.965] \n",
      "Sample: 100%|██████████| 3000/3000 [1:48:12,  2.16s/it, step size=2.61e-04, acc. prob=0.944]\n",
      "Sample: 100%|██████████| 3000/3000 [2:17:08,  2.74s/it, step size=2.15e-04, acc. prob=0.953] "
     ]
    },
    {
     "name": "stdout",
     "output_type": "stream",
     "text": [
      "Average Accuracy: 0.805\n",
      "Average AUC: 0.8863581168831169\n",
      "Average RA: 0.008635009613354009\n",
      "Average RB: 0.9361344537815125\n"
     ]
    },
    {
     "name": "stderr",
     "output_type": "stream",
     "text": [
      "\n"
     ]
    }
   ],
   "source": [
    "# Initialize lists to store the results\n",
    "accuracies = []\n",
    "aucs = []\n",
    "ras = []\n",
    "rbs = []\n",
    "\n",
    "for train_index, test_index in kf.split(X, y):\n",
    "    X_train, X_test = X.iloc[train_index], X.iloc[test_index]\n",
    "    y_train, y_test = y.iloc[train_index], y.iloc[test_index]\n",
    "    \n",
    "    # tensor \n",
    "    X_train_tensor = torch.tensor(X_train.values, dtype=torch.float32)\n",
    "    X_test_tensor = torch.tensor(X_test.values, dtype=torch.float32)\n",
    "    y_train_tensor = torch.tensor(y_train.values.flatten(), dtype=torch.float32)\n",
    "    \n",
    "    # logistic regression model with gaussian prior\n",
    "    def model(X, y):\n",
    "        beta = pyro.sample(\"beta\", dist.Normal(0., 1.).expand([X.shape[1]]).to_event(1))\n",
    "        y_prob = torch.sigmoid(torch.matmul(X, beta))\n",
    "        with pyro.plate(\"data\", X.shape[0]):\n",
    "            pyro.sample(\"y\", dist.Bernoulli(y_prob), obs=y)\n",
    "    \n",
    "    # NUTS sampler\n",
    "    nuts_kernel = NUTS(model)\n",
    "    mcmc = MCMC(nuts_kernel, num_samples=2000, warmup_steps=1000)\n",
    "    mcmc.run(X_train_tensor, y_train_tensor)\n",
    "    \n",
    "    # sample from the posterior\n",
    "    beta_sample = mcmc.get_samples()[\"beta\"].detach().numpy()\n",
    "    y_sample = torch.sigmoid(torch.matmul(X_test_tensor, torch.tensor(beta_sample.T, dtype=torch.float32))).detach().numpy()\n",
    "    \n",
    "    # compute the posterior mean and the 95% credible interval\n",
    "    y_prob = np.mean(y_sample, axis=1)\n",
    "    y_pred = np.round(y_prob)\n",
    "    posterior_lower = np.percentile(y_sample, 2.5, axis=1)\n",
    "    posterior_upper = np.percentile(y_sample, 97.5, axis=1)\n",
    "    \n",
    "    acc = accuracy_score(y_test, y_pred)\n",
    "    auc = roc_auc_score(y_test, y_prob)\n",
    "    RA = np.sum((( (np.ravel(y_test.values)  != y_pred) & (posterior_upper > 0.5) & (posterior_lower < 0.5)))) / np.sum(y_test.values != y_pred)\n",
    "    RB = np.sum((( (np.ravel(y_test.values) == y_pred) & ((posterior_upper <= 0.5) | (posterior_lower >= 0.5))))) / np.sum((posterior_upper <= 0.5) | (posterior_lower >= 0.5))\n",
    "    accuracies.append(acc)\n",
    "    aucs.append(auc)\n",
    "    ras.append(RA)\n",
    "    rbs.append(RB)\n",
    "\n",
    "# output\n",
    "print(\"Average Accuracy:\", np.mean(accuracies))\n",
    "print(\"Average AUC:\", np.mean(aucs))\n",
    "print(\"Average RA:\", np.mean(ras))\n",
    "print(\"Average RB:\", np.mean(rbs))"
   ]
  },
  {
   "cell_type": "code",
   "execution_count": 69,
   "metadata": {},
   "outputs": [
    {
     "name": "stderr",
     "output_type": "stream",
     "text": [
      "Sample: 100%|██████████| 3000/3000 [47:53,  1.04it/s, step size=2.62e-04, acc. prob=0.886]\n",
      "Sample: 100%|██████████| 3000/3000 [46:16,  1.08it/s, step size=2.75e-04, acc. prob=0.918]\n",
      "Sample: 100%|██████████| 3000/3000 [49:25,  1.01it/s, step size=2.41e-04, acc. prob=0.924]\n",
      "Sample: 100%|██████████| 3000/3000 [44:20,  1.13it/s, step size=2.65e-04, acc. prob=0.904]\n",
      "Sample: 100%|██████████| 3000/3000 [43:56,  1.14it/s, step size=2.49e-04, acc. prob=0.935]"
     ]
    },
    {
     "name": "stdout",
     "output_type": "stream",
     "text": [
      "Average Accuracy: 0.8150000000000001\n",
      "Average AUC: 0.8839054653679653\n",
      "Average RA: 0.008193325125770798\n",
      "Average RB: 0.9361111111111111\n"
     ]
    },
    {
     "name": "stderr",
     "output_type": "stream",
     "text": [
      "\n"
     ]
    }
   ],
   "source": [
    "# Initialize lists to store the results\n",
    "accuracies = []\n",
    "aucs = []\n",
    "ras = []\n",
    "rbs = []\n",
    "\n",
    "for train_index, test_index in kf.split(X, y):\n",
    "    X_train, X_test = X.iloc[train_index], X.iloc[test_index]\n",
    "    y_train, y_test = y.iloc[train_index], y.iloc[test_index]\n",
    "    \n",
    "    # tensor \n",
    "    X_train_tensor = torch.tensor(X_train.values, dtype=torch.float32)\n",
    "    X_test_tensor = torch.tensor(X_test.values, dtype=torch.float32)\n",
    "    y_train_tensor = torch.tensor(y_train.values.flatten(), dtype=torch.float32)\n",
    "    \n",
    "    # logistic regression model with laplace prior\n",
    "    def model(X, y):\n",
    "        beta = pyro.sample(\"beta\", dist.Laplace(0., 1.).expand([X.shape[1]]).to_event(1))\n",
    "        y_prob = torch.sigmoid(torch.matmul(X, beta))\n",
    "        with pyro.plate(\"data\", X.shape[0]):\n",
    "            pyro.sample(\"y\", dist.Bernoulli(y_prob), obs=y)\n",
    "    \n",
    "    # NUTS sampler\n",
    "    nuts_kernel = NUTS(model)\n",
    "    mcmc = MCMC(nuts_kernel, num_samples=2000, warmup_steps=1000)\n",
    "    mcmc.run(X_train_tensor, y_train_tensor)\n",
    "    \n",
    "    # sample from the posterior\n",
    "    beta_sample = mcmc.get_samples()[\"beta\"].detach().numpy()\n",
    "    y_sample = torch.sigmoid(torch.matmul(X_test_tensor, torch.tensor(beta_sample.T, dtype=torch.float32))).detach().numpy()\n",
    "    \n",
    "    # compute the posterior mean and the 95% credible interval\n",
    "    y_prob = np.mean(y_sample, axis=1)\n",
    "    y_pred = np.round(y_prob)\n",
    "    posterior_lower = np.percentile(y_sample, 2.5, axis=1)\n",
    "    posterior_upper = np.percentile(y_sample, 97.5, axis=1)\n",
    "    \n",
    "    acc = accuracy_score(y_test, y_pred)\n",
    "    auc = roc_auc_score(y_test, y_prob)\n",
    "    RA = np.sum((( (np.ravel(y_test.values)  != y_pred) & (posterior_upper > 0.5) & (posterior_lower < 0.5)))) / np.sum(y_test.values != y_pred)\n",
    "    RB = np.sum((( (np.ravel(y_test.values) == y_pred) & ((posterior_upper <= 0.5) | (posterior_lower >= 0.5))))) / np.sum((posterior_upper <= 0.5) | (posterior_lower >= 0.5))\n",
    "    accuracies.append(acc)\n",
    "    aucs.append(auc)\n",
    "    ras.append(RA)\n",
    "    rbs.append(RB)\n",
    "\n",
    "# output\n",
    "print(\"Average Accuracy:\", np.mean(accuracies))\n",
    "print(\"Average AUC:\", np.mean(aucs))\n",
    "print(\"Average RA:\", np.mean(ras))\n",
    "print(\"Average RB:\", np.mean(rbs))"
   ]
  }
 ],
 "metadata": {
  "kernelspec": {
   "display_name": "Python 3",
   "language": "python",
   "name": "python3"
  },
  "language_info": {
   "codemirror_mode": {
    "name": "ipython",
    "version": 3
   },
   "file_extension": ".py",
   "mimetype": "text/x-python",
   "name": "python",
   "nbconvert_exporter": "python",
   "pygments_lexer": "ipython3",
   "version": "3.10.9"
  }
 },
 "nbformat": 4,
 "nbformat_minor": 2
}
